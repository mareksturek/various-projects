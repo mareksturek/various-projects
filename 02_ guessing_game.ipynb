{
 "cells": [
  {
   "cell_type": "markdown",
   "metadata": {},
   "source": [
    "## Guessing Game\n",
    "\n",
    "10/23/2020"
   ]
  },
  {
   "cell_type": "markdown",
   "metadata": {},
   "source": [
    "---"
   ]
  },
  {
   "cell_type": "code",
   "execution_count": 1,
   "metadata": {},
   "outputs": [
    {
     "name": "stdout",
     "output_type": "stream",
     "text": [
      "Enter your guess between 1 and 20: 12\n",
      "YOUR GUESS IS HIGH, TRY AGAIN\n",
      "Enter an integer from 1 and 20: 7\n",
      "YOUR GUESS IS HIGH, TRY AGAIN\n",
      "Enter an integer from 1 and 20: 4\n",
      "YOUR GUESS IS HIGH, TRY AGAIN\n",
      "Enter an integer from 1 and 20: 2\n",
      "YOU ARE RIGHT! GOOD JOB!\n"
     ]
    }
   ],
   "source": [
    "import random\n",
    "true_number = random.randint(1, 20)\n",
    "guess_number = int(input(\"Enter your guess between 1 and 20: \"))\n",
    "\n",
    "\n",
    "while True:\n",
    "    if guess_number == true_number:\n",
    "        print('YOU ARE RIGHT! GOOD JOB!')\n",
    "        break\n",
    "    \n",
    "    elif guess_number < true_number:\n",
    "        print('YOUR GUESS IS LOW, TRY AGAIN')\n",
    "        guess_number = int(input(\"Enter your guess between 1 and 20: \"))\n",
    "              \n",
    "    elif guess_number > true_number:\n",
    "        print('YOUR GUESS IS HIGH, TRY AGAIN')\n",
    "        guess_number = int(input(\"Enter an integer from 1 and 20: \"))"
   ]
  }
 ],
 "metadata": {
  "kernelspec": {
   "display_name": "Python 3",
   "language": "python",
   "name": "python3"
  },
  "language_info": {
   "codemirror_mode": {
    "name": "ipython",
    "version": 3
   },
   "file_extension": ".py",
   "mimetype": "text/x-python",
   "name": "python",
   "nbconvert_exporter": "python",
   "pygments_lexer": "ipython3",
   "version": "3.8.6"
  }
 },
 "nbformat": 4,
 "nbformat_minor": 2
}
