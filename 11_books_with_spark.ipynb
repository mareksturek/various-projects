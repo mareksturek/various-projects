{
 "cells": [
  {
   "cell_type": "markdown",
   "metadata": {},
   "source": [
    "## Books Text with Apache Spark "
   ]
  },
  {
   "cell_type": "markdown",
   "metadata": {},
   "source": [
    "---"
   ]
  },
  {
   "cell_type": "code",
   "execution_count": 1,
   "metadata": {},
   "outputs": [],
   "source": [
    "# Setting up hostname\n",
    "# sudo hostname -s 127.0.0.1"
   ]
  },
  {
   "cell_type": "code",
   "execution_count": 2,
   "metadata": {},
   "outputs": [],
   "source": [
    "# Import libraries\n",
    "\n",
    "%matplotlib inline\n",
    "import numpy as np\n",
    "import seaborn as sns\n",
    "import matplotlib.pyplot as plt"
   ]
  },
  {
   "cell_type": "code",
   "execution_count": 3,
   "metadata": {},
   "outputs": [],
   "source": [
    "# Finding SparkContext\n",
    "\n",
    "import findspark\n",
    "findspark.init() \n",
    "\n",
    "import pyspark\n",
    "sc = pyspark.SparkContext()"
   ]
  },
  {
   "cell_type": "code",
   "execution_count": 4,
   "metadata": {},
   "outputs": [
    {
     "data": {
      "text/plain": [
       "['13chil.txt', '3lpigs.txt']"
      ]
     },
     "execution_count": 4,
     "metadata": {},
     "output_type": "execute_result"
    }
   ],
   "source": [
    "# Import books\n",
    "\n",
    "import os\n",
    "os.listdir('tails')"
   ]
  },
  {
   "cell_type": "code",
   "execution_count": 5,
   "metadata": {},
   "outputs": [],
   "source": [
    "# Parsing a string into individual words, elimination of punctuation marks including \",\" and \".\" \n",
    "\n",
    "import re\n",
    "\n",
    "def parsewords(sentence):\n",
    "    # Convert all non-alphanumeric characters into empty string\n",
    "    sentence_clean = re.sub(r'([^A-Za-z0-9\\s+])', '', sentence)  \n",
    "    words = sentence_clean.split(' ')\n",
    "    # Convert to lowercase and eliminate empty string words\n",
    "    return [word.lower() for word in words if word != ''] "
   ]
  },
  {
   "cell_type": "code",
   "execution_count": 6,
   "metadata": {},
   "outputs": [
    {
     "data": {
      "text/plain": [
       "['i', 'shall', 'finish', 'my', 'house', 'first', 'it', 'must', 'be', 'solid']"
      ]
     },
     "execution_count": 6,
     "metadata": {},
     "output_type": "execute_result"
    }
   ],
   "source": [
    "# Function test \n",
    "\n",
    "sample_sentence = \"I shall finish my house first. It must be solid and sturdy. \\\n",
    "And then I'll come and play!\" \"I shall not be foolish like you!\\\n",
    "For he who laughs last, laughs longest!\"\n",
    "\n",
    "parsewords(sample_sentence)[:10]"
   ]
  },
  {
   "cell_type": "code",
   "execution_count": 7,
   "metadata": {},
   "outputs": [
    {
     "data": {
      "text/plain": [
       "['                                FOR CHILDREN:',\n",
       " '',\n",
       " '                                   Sly Fox',\n",
       " '',\n",
       " '    Mr. Rabbit sat on his front porch rocking, eating a great big carrot, ',\n",
       " 'and looking.',\n",
       " '',\n",
       " '    \"Looks like Sly Fox coming down the road,\" he said to himself, walking ',\n",
       " 'to the end of the porch. Shading his eyes with his paws, he exclaimed, \"It ',\n",
       " 'is Sly Fox.\" ',\n",
       " '',\n",
       " '    \"Good morning Mr. Rabbit,\" cried Sly Fox, as he walked across the yard. ',\n",
       " '\"Good morning,\" replied Mr. Rabbit, a slight frown on his face. ',\n",
       " '',\n",
       " '    \"Well,\" said Sly Fox, \"as I haven\\'t seen you in so long a time, thought ',\n",
       " 'I would stop and chat a while.\" ',\n",
       " '',\n",
       " '    Mr. Rabbit could not be rude in his own home, even to an enemy, so he ',\n",
       " 'offered Sly Fox a seat on the porch. ',\n",
       " '']"
      ]
     },
     "execution_count": 7,
     "metadata": {},
     "output_type": "execute_result"
    }
   ],
   "source": [
    "# Load books text, RDD (Resilient Distributed Datasets)\n",
    "\n",
    "textsRDD = sc.textFile('tails/'+os.listdir('tails')[0])\n",
    "for txt in os.listdir('tails')[1:]:\n",
    "    file_dir = 'tails/' + txt\n",
    "    textRDD = sc.textFile(file_dir)\n",
    "    textsRDD = textsRDD.union(textRDD)\n",
    "    \n",
    "textsRDD.take(20)"
   ]
  },
  {
   "cell_type": "code",
   "execution_count": 8,
   "metadata": {},
   "outputs": [
    {
     "data": {
      "text/plain": [
       "[['for', 'children'],\n",
       " [],\n",
       " ['sly', 'fox'],\n",
       " [],\n",
       " ['mr',\n",
       "  'rabbit',\n",
       "  'sat',\n",
       "  'on',\n",
       "  'his',\n",
       "  'front',\n",
       "  'porch',\n",
       "  'rocking',\n",
       "  'eating',\n",
       "  'a',\n",
       "  'great',\n",
       "  'big',\n",
       "  'carrot']]"
      ]
     },
     "execution_count": 8,
     "metadata": {},
     "output_type": "execute_result"
    }
   ],
   "source": [
    "# textsRDD with parsewords for each line of strings \n",
    "\n",
    "textsRDD.map(parsewords).take(5) "
   ]
  },
  {
   "cell_type": "code",
   "execution_count": 9,
   "metadata": {},
   "outputs": [
    {
     "data": {
      "text/plain": [
       "['for',\n",
       " 'children',\n",
       " 'sly',\n",
       " 'fox',\n",
       " 'mr',\n",
       " 'rabbit',\n",
       " 'sat',\n",
       " 'on',\n",
       " 'his',\n",
       " 'front',\n",
       " 'porch',\n",
       " 'rocking',\n",
       " 'eating',\n",
       " 'a',\n",
       " 'great',\n",
       " 'big',\n",
       " 'carrot',\n",
       " 'and',\n",
       " 'looking',\n",
       " 'looks']"
      ]
     },
     "execution_count": 9,
     "metadata": {},
     "output_type": "execute_result"
    }
   ],
   "source": [
    "# flatMap method with parsewords \n",
    "\n",
    "wordRDD = textsRDD.flatMap(parsewords)\n",
    "wordRDD.take(20)"
   ]
  },
  {
   "cell_type": "code",
   "execution_count": 10,
   "metadata": {},
   "outputs": [
    {
     "name": "stdout",
     "output_type": "stream",
     "text": [
      "Total Word Count: 2454\n"
     ]
    }
   ],
   "source": [
    "# Total number of words \n",
    "\n",
    "total_count = wordRDD.count()\n",
    "print (\"Total Word Count:\", total_count)"
   ]
  },
  {
   "cell_type": "code",
   "execution_count": 11,
   "metadata": {
    "scrolled": true
   },
   "outputs": [
    {
     "data": {
      "text/plain": [
       "[('for', 1),\n",
       " ('children', 1),\n",
       " ('sly', 1),\n",
       " ('fox', 1),\n",
       " ('mr', 1),\n",
       " ('rabbit', 1),\n",
       " ('sat', 1),\n",
       " ('on', 1),\n",
       " ('his', 1),\n",
       " ('front', 1),\n",
       " ('porch', 1),\n",
       " ('rocking', 1),\n",
       " ('eating', 1),\n",
       " ('a', 1),\n",
       " ('great', 1),\n",
       " ('big', 1),\n",
       " ('carrot', 1),\n",
       " ('and', 1),\n",
       " ('looking', 1),\n",
       " ('looks', 1)]"
      ]
     },
     "execution_count": 11,
     "metadata": {},
     "output_type": "execute_result"
    }
   ],
   "source": [
    "# Convert individual word into a pair of (word,1) tuple \n",
    "\n",
    "wordPairRDD = wordRDD.map(lambda word: (word,1))\n",
    "wordPairRDD.take(20)"
   ]
  },
  {
   "cell_type": "code",
   "execution_count": 12,
   "metadata": {},
   "outputs": [
    {
     "data": {
      "text/plain": [
       "[('rabbit', 33),\n",
       " ('eating', 1),\n",
       " ('like', 7),\n",
       " ('road', 2),\n",
       " ('he', 56),\n",
       " ('of', 35),\n",
       " ('eyes', 3),\n",
       " ('exclaimed', 2),\n",
       " ('good', 7),\n",
       " ('walked', 1),\n",
       " ('yard', 2),\n",
       " ('i', 14),\n",
       " ('in', 34),\n",
       " ('long', 6),\n",
       " ('thought', 6),\n",
       " ('would', 3),\n",
       " ('even', 1),\n",
       " ('an', 4),\n",
       " ('offered', 1),\n",
       " ('chair', 1)]"
      ]
     },
     "execution_count": 12,
     "metadata": {},
     "output_type": "execute_result"
    }
   ],
   "source": [
    "# ReduceByKey method to sum up the counts, create a new RDD, wordCountRDD.\n",
    "\n",
    "wordCountRDD = wordPairRDD.reduceByKey(lambda x,y: x+y)\n",
    "wordCountRDD.take(20)"
   ]
  },
  {
   "cell_type": "code",
   "execution_count": 13,
   "metadata": {},
   "outputs": [
    {
     "name": "stdout",
     "output_type": "stream",
     "text": [
      "Total Unique Words: 757\n"
     ]
    }
   ],
   "source": [
    "# Number of unique words\n",
    "\n",
    "unique_count = wordCountRDD.count()\n",
    "print (\"Total Unique Words:\", unique_count)"
   ]
  },
  {
   "cell_type": "code",
   "execution_count": 14,
   "metadata": {},
   "outputs": [
    {
     "data": {
      "text/plain": [
       "[('the', 162),\n",
       " ('and', 91),\n",
       " ('to', 71),\n",
       " ('he', 56),\n",
       " ('a', 51),\n",
       " ('little', 37),\n",
       " ('of', 35),\n",
       " ('his', 35),\n",
       " ('in', 34),\n",
       " ('rabbit', 33),\n",
       " ('fox', 30),\n",
       " ('sly', 26),\n",
       " ('with', 23),\n",
       " ('as', 21),\n",
       " ('for', 20),\n",
       " ('they', 20),\n",
       " ('on', 18),\n",
       " ('had', 18),\n",
       " ('you', 16),\n",
       " ('house', 16)]"
      ]
     },
     "execution_count": 14,
     "metadata": {},
     "output_type": "execute_result"
    }
   ],
   "source": [
    "# Select top 20 words in descending order of frequency\n",
    "\n",
    "top50Words = wordCountRDD.takeOrdered(20, key=lambda x: -x[1]) # Use '-' to sort in descending order\n",
    "top50Words"
   ]
  },
  {
   "cell_type": "code",
   "execution_count": 15,
   "metadata": {},
   "outputs": [],
   "source": [
    "# Top 50 words simplified with Spark\n",
    "\n",
    "top50Words = (textsRDD.flatMap(parsewords)\n",
    "                      .map(lambda word: (word,1))\n",
    "                      .reduceByKey(lambda x,y: x+y)\n",
    "                      .takeOrdered(50, key=lambda x: -x[1]))"
   ]
  },
  {
   "cell_type": "code",
   "execution_count": 16,
   "metadata": {},
   "outputs": [
    {
     "data": {
      "image/png": "[encoded data removed]",
      "text/plain": [
       "<Figure size 1440x504 with 1 Axes>"
      ]
     },
     "metadata": {
      "needs_background": "light"
     },
     "output_type": "display_data"
    }
   ],
   "source": [
    "# Plot frequency of top 50 words\n",
    "\n",
    "words = list()\n",
    "counts = list()\n",
    "for pair in top50Words:\n",
    "    words.append(pair[0])\n",
    "    counts.append(pair[1])\n",
    "\n",
    "plt.figure(figsize=(20,7))\n",
    "plt.bar(range(1,51), np.array(counts) / float(total_count), label=\"Word Frequency\", align='center')\n",
    "plt.xticks(range(1,51), words[:50], rotation=60, fontsize=15)\n",
    "plt.title(\"Frequency of Top 50 Words\",fontsize=18)\n",
    "plt.legend(fontsize=14)\n",
    "plt.xlim(0.5,50.5)\n",
    "plt.show()"
   ]
  }
 ],
 "metadata": {
  "kernelspec": {
   "display_name": "Python 3",
   "language": "python",
   "name": "python3"
  },
  "language_info": {
   "codemirror_mode": {
    "name": "ipython",
    "version": 3
   },
   "file_extension": ".py",
   "mimetype": "text/x-python",
   "name": "python",
   "nbconvert_exporter": "python",
   "pygments_lexer": "ipython3",
   "version": "3.8.6"
  }
 },
 "nbformat": 4,
 "nbformat_minor": 1
}
