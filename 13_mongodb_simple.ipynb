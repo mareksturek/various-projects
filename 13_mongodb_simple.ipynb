{
 "cells": [
  {
   "cell_type": "markdown",
   "metadata": {},
   "source": [
    "## MongoDB Simple"
   ]
  },
  {
   "cell_type": "markdown",
   "metadata": {},
   "source": [
    "---"
   ]
  },
  {
   "cell_type": "code",
   "execution_count": 1,
   "metadata": {},
   "outputs": [],
   "source": [
    "# Import libraries\n",
    "\n",
    "import pymongo\n",
    "from pymongo import MongoClient"
   ]
  },
  {
   "cell_type": "code",
   "execution_count": 2,
   "metadata": {},
   "outputs": [],
   "source": [
    "# Establish connection to MongoDB server\n",
    "\n",
    "client = MongoClient()"
   ]
  },
  {
   "cell_type": "code",
   "execution_count": 3,
   "metadata": {},
   "outputs": [],
   "source": [
    "# Select database, collection\n",
    "\n",
    "db = client.sample_database\n",
    "collection = db.sample_collection"
   ]
  },
  {
   "cell_type": "code",
   "execution_count": 4,
   "metadata": {},
   "outputs": [
    {
     "data": {
      "text/plain": [
       "<pymongo.results.InsertOneResult at 0x7fdb59285100>"
      ]
     },
     "execution_count": 4,
     "metadata": {},
     "output_type": "execute_result"
    }
   ],
   "source": [
    "# Insert document into collection\n",
    "\n",
    "collection.insert_one({\"name\":\"janko\", \"age\":15})\n",
    "collection.insert_one({\"name\":\"marek\", \"age\":25})\n",
    "collection.insert_one({\"name\":\"lenka\", \"age\":20})"
   ]
  },
  {
   "cell_type": "code",
   "execution_count": 5,
   "metadata": {},
   "outputs": [
    {
     "name": "stdout",
     "output_type": "stream",
     "text": [
      "{'_id': ObjectId('5fb08eb4e75a0941f268f7ed'), 'name': 'marek', 'age': 25}\n"
     ]
    }
   ],
   "source": [
    "# Find document\n",
    "\n",
    "document = collection.find_one({\"name\":\"marek\"})\n",
    "print(document)"
   ]
  },
  {
   "cell_type": "code",
   "execution_count": 6,
   "metadata": {},
   "outputs": [
    {
     "name": "stdout",
     "output_type": "stream",
     "text": [
      "{'_id': ObjectId('5fb08eb4e75a0941f268f7ec'), 'name': 'janko', 'age': 15}\n",
      "{'_id': ObjectId('5fb08eb4e75a0941f268f7ed'), 'name': 'marek', 'age': 25}\n",
      "{'_id': ObjectId('5fb08eb4e75a0941f268f7ee'), 'name': 'lenka', 'age': 20}\n"
     ]
    }
   ],
   "source": [
    "# Find documents\n",
    "\n",
    "documents = collection.find()\n",
    "\n",
    "for document in documents:\n",
    "    print(document)"
   ]
  },
  {
   "cell_type": "code",
   "execution_count": 7,
   "metadata": {},
   "outputs": [
    {
     "name": "stdout",
     "output_type": "stream",
     "text": [
      "{'_id': ObjectId('5fb08eb4e75a0941f268f7ed'), 'name': 'marek', 'age': 25, 'state': 'slovakia'}\n"
     ]
    }
   ],
   "source": [
    "# Update document\n",
    "\n",
    "collection.update_one({\"name\":\"marek\"}, {\"$set\":{\"state\":\"slovakia\"}})\n",
    "document = collection.find_one({\"name\":\"marek\"})\n",
    "print(document)"
   ]
  },
  {
   "cell_type": "code",
   "execution_count": 8,
   "metadata": {},
   "outputs": [
    {
     "name": "stdout",
     "output_type": "stream",
     "text": [
      "{'_id': ObjectId('5fb08eb4e75a0941f268f7ec'), 'name': 'janko', 'age': 15, 'vacation': 'czech'}\n",
      "{'_id': ObjectId('5fb08eb4e75a0941f268f7ed'), 'name': 'marek', 'age': 25, 'state': 'slovakia', 'vacation': 'czech'}\n",
      "{'_id': ObjectId('5fb08eb4e75a0941f268f7ee'), 'name': 'lenka', 'age': 20, 'vacation': 'czech'}\n"
     ]
    }
   ],
   "source": [
    "# Update documents\n",
    "\n",
    "collection.update_many({}, {\"$set\":{\"vacation\":\"czech\"}})\n",
    "documents = collection.find()\n",
    "\n",
    "for document in documents:\n",
    "    print(document)"
   ]
  },
  {
   "cell_type": "code",
   "execution_count": 9,
   "metadata": {},
   "outputs": [
    {
     "name": "stdout",
     "output_type": "stream",
     "text": [
      "{'_id': ObjectId('5fb08eb4e75a0941f268f7ed'), 'name': 'marek', 'age': 25, 'state': 'slovakia', 'vacation': 'czech'}\n",
      "{'_id': ObjectId('5fb08eb4e75a0941f268f7ee'), 'name': 'lenka', 'age': 20, 'vacation': 'czech'}\n"
     ]
    }
   ],
   "source": [
    "# Deleting document\n",
    "\n",
    "collection.delete_one({\"name\":\"janko\"})\n",
    "documents = collection.find()\n",
    "\n",
    "for document in documents:\n",
    "    print(document)"
   ]
  },
  {
   "cell_type": "code",
   "execution_count": 10,
   "metadata": {},
   "outputs": [],
   "source": [
    "# Updating in heart_disease database\n",
    "\n",
    "db = client.heart_disease\n",
    "collection = db.patients"
   ]
  },
  {
   "cell_type": "code",
   "execution_count": 11,
   "metadata": {},
   "outputs": [],
   "source": [
    "# Find target value 1 & 0 and change to true * false \n",
    "\n",
    "documents = collection.find()\n",
    "for document in documents:\n",
    "    if document[\"target\"] == 1:\n",
    "        collection.update_one({\"_id\":document[\"_id\"]},{\"$set\":{\"target\":\"true\"}} )    \n",
    "    else:\n",
    "        collection.update_one({\"_id\":document[\"_id\"]},{\"$set\":{\"target\":\"false\"}} )"
   ]
  },
  {
   "cell_type": "code",
   "execution_count": 29,
   "metadata": {},
   "outputs": [
    {
     "name": "stdout",
     "output_type": "stream",
     "text": [
      "{'_id': ObjectId('5fb090813a50d57892e54cd6'), 'age': '63', 'sex': '1', 'cp': '3', 'trestbps': '145', 'chol': '233', 'fbs': '1', 'restecg': '0', 'thalach': '150', 'exang': '0', 'oldpeak': '2.3', 'slope': '0', 'ca': '0', 'thal': '1', 'target': 'true'}\n"
     ]
    }
   ],
   "source": [
    "# Print one document for age of 63 with target of true\n",
    "\n",
    "document = collection.find_one({\"age\":\"63\"})\n",
    "print(document)"
   ]
  }
 ],
 "metadata": {
  "kernelspec": {
   "display_name": "Python 3",
   "language": "python",
   "name": "python3"
  },
  "language_info": {
   "codemirror_mode": {
    "name": "ipython",
    "version": 3
   },
   "file_extension": ".py",
   "mimetype": "text/x-python",
   "name": "python",
   "nbconvert_exporter": "python",
   "pygments_lexer": "ipython3",
   "version": "3.8.6"
  }
 },
 "nbformat": 4,
 "nbformat_minor": 4
}
