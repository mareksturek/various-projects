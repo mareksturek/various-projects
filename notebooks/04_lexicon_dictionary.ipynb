{
 "cells": [
  {
   "cell_type": "markdown",
   "metadata": {},
   "source": [
    "## Lexicon Dictionary "
   ]
  },
  {
   "cell_type": "markdown",
   "metadata": {},
   "source": [
    "---"
   ]
  },
  {
   "cell_type": "code",
   "execution_count": 1,
   "metadata": {},
   "outputs": [
    {
     "name": "stdout",
     "output_type": "stream",
     "text": [
      "Enter the word you want to search: Slovakia\n",
      "A country in Central Europe. Borders with Poland, Czechia, Austria, Hungary and Ukraine.\n"
     ]
    }
   ],
   "source": [
    "import json\n",
    "from difflib import get_close_matches\n",
    "\n",
    "data = json.load(open(\"/Users/mareksturek/Documents/GitHub/various-projects/data/lexicon.json\"))\n",
    "\n",
    "def translate(word):\n",
    "    word = word.lower()\n",
    "    if word in data:\n",
    "        return data[word]\n",
    "    elif word.title() in data:\n",
    "        return data[word.title()]\n",
    "    elif word.upper() in data:\n",
    "        return data[word.upper()]\n",
    "    elif len(get_close_matches(word , data.keys())) > 0 :\n",
    "        print(\"Did you mean %s instead\" %get_close_matches(word, data.keys())[0])\n",
    "        decide = input(\"Press y for Yes or n for No\")\n",
    "        if decide == \"y\":\n",
    "            return data[get_close_matches(word , data.keys())[0]]\n",
    "        elif decide == \"n\":\n",
    "            return(\"The end of your search\")\n",
    "        else:\n",
    "            return(\"You have entered incorrect input. Please enter just key y or n\")\n",
    "    else:\n",
    "        print(\"The end of your search\")\n",
    "\n",
    "\n",
    "\n",
    "word = input(\"Enter the word you want to search: \")\n",
    "output = translate(word)\n",
    "if type(output) == list:\n",
    "    for item in output:\n",
    "        print(item)\n",
    "else:\n",
    "    print(output)"
   ]
  }
 ],
 "metadata": {
  "kernelspec": {
   "display_name": "Python 3",
   "language": "python",
   "name": "python3"
  },
  "language_info": {
   "codemirror_mode": {
    "name": "ipython",
    "version": 3
   },
   "file_extension": ".py",
   "mimetype": "text/x-python",
   "name": "python",
   "nbconvert_exporter": "python",
   "pygments_lexer": "ipython3",
   "version": "3.8.6"
  }
 },
 "nbformat": 4,
 "nbformat_minor": 4
}
