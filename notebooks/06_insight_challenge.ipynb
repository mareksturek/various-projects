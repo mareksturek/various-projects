{
 "cells": [
  {
   "cell_type": "markdown",
   "metadata": {},
   "source": [
    "## Insight Data Challenge"
   ]
  },
  {
   "cell_type": "markdown",
   "metadata": {},
   "source": [
    "---"
   ]
  },
  {
   "cell_type": "code",
   "execution_count": 16,
   "metadata": {},
   "outputs": [],
   "source": [
    "# Task 1\n",
    "\n",
    "import os\n",
    "import sys\n",
    "import glob\n",
    "import shutil\n",
    "\n",
    "# Set location for the input file(s)\n",
    "read_files = glob.glob('wc_input/*.txt')\n",
    "\n",
    "# Create a directory \n",
    "f = ('wc_misc/all_files.txt')\n",
    "def ensure_dir():\n",
    "    d = os.path.dirname(f)\n",
    "    if not os.path.exists(d):\n",
    "        os.mkdir(d)\n",
    "ensure_dir()\n",
    "\n",
    "def word_count_dict(): \n",
    "    # Create an output file to store texts from various input file(s)\n",
    "    with open ('all_files.txt', 'w') as outfile:\n",
    "        for text in read_files:\n",
    "            with open (text, 'r') as infile:\n",
    "                outfile.write(infile.read() + '\\n')\n",
    "        infile.close()\n",
    "        outfile.close()\n",
    "        \n",
    "    # Move file to new directory\n",
    "    dir = 'wc_misc'\n",
    "    file = 'all_files.txt'\n",
    "    shutil.move(file,dir) \n",
    "            \n",
    "    # Split, lower, remove \",\" & \".\" and map each word to its count\n",
    "    word_count = {} \n",
    "    input_file = open('wc_misc/all_files.txt', 'r') \n",
    "    for line in input_file:\n",
    "        words = line.split()\n",
    "        for word in words:\n",
    "            word = word.lower().replace(\",\", \"\").replace(\".\", \"\")\n",
    "            if not word in word_count:\n",
    "                word_count[word] = 1\n",
    "            else:\n",
    "                word_count[word] = word_count[word] + 1\n",
    "    input_file.close()\n",
    "    return word_count\n",
    "        \n",
    "def print_counts():\n",
    "  # Store desired program output\n",
    "  word_count = word_count_dict()\n",
    "  words = sorted(word_count.keys())\n",
    "  sys.stdout = open('wc_output/wc_result.txt', 'w')\n",
    "  for word in words:\n",
    "      print ('{0:10} {1:5d}'.format(word, word_count[word]))\n",
    "                                                                                                                                                                                                                                                                                                                                                                                                                                                                                                                      \n",
    "print_counts()\n",
    "    \n",
    "    "
   ]
  },
  {
   "cell_type": "code",
   "execution_count": 17,
   "metadata": {},
   "outputs": [],
   "source": [
    "# Task 2\n",
    "\n",
    "import numpy as np\n",
    "\n",
    "def run_med():  \n",
    "    # Read the content from the input file\n",
    "    input_file = open('wc_misc/all_files.txt', 'r')              \n",
    "    text = input_file.readlines()\n",
    "    input_file.close()\n",
    "    \n",
    "    # Split, compute number of words in each line\n",
    "    num_list =  []\n",
    "    for item in text:       \n",
    "        words = item.split()\n",
    "        number_words = len(words)\n",
    "        num_list.append(number_words)\n",
    "     \n",
    "    # Create a list of counts, convert to array and calculate median\n",
    "    list_count = num_list\n",
    "    list_all = [list_count[:i] for i in range(1,len(list_count)+1)]\n",
    "    conv_list = np.array(list_all)\n",
    "    median_arr = map(np.median,conv_list)    \n",
    "    \n",
    "    # Store desired program output\n",
    "    with open('wc_output/med_result.txt', 'w') as outfile: \n",
    "        for item in median_arr:\n",
    "            outfile.write('%s\\n' % item)\n",
    "        outfile.close()\n",
    "    \n",
    "run_med()"
   ]
  }
 ],
 "metadata": {
  "kernelspec": {
   "display_name": "Python 3",
   "language": "python",
   "name": "python3"
  },
  "language_info": {
   "codemirror_mode": {
    "name": "ipython",
    "version": 3
   },
   "file_extension": ".py",
   "mimetype": "text/x-python",
   "name": "python",
   "nbconvert_exporter": "python",
   "pygments_lexer": "ipython3",
   "version": "3.8.6"
  }
 },
 "nbformat": 4,
 "nbformat_minor": 4
}
