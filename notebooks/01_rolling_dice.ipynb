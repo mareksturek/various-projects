{
 "cells": [
  {
   "cell_type": "markdown",
   "metadata": {},
   "source": [
    "## Rolling Dice"
   ]
  },
  {
   "cell_type": "markdown",
   "metadata": {},
   "source": [
    "---"
   ]
  },
  {
   "cell_type": "code",
   "execution_count": 1,
   "metadata": {},
   "outputs": [
    {
     "name": "stdout",
     "output_type": "stream",
     "text": [
      "This is a dice rolling game\n",
      "Press r key to roll again: r\n",
      "----------\n",
      "| O    O |\n",
      "|    O   |\n",
      "| O    O |\n",
      "----------\n",
      "Press r key to roll again: r\n",
      "----------\n",
      "| O    O |\n",
      "| O    O |\n",
      "| O    O |\n",
      "----------\n",
      "Press r key to roll again: r\n",
      "----------\n",
      "| O    O |\n",
      "| O    O |\n",
      "| O    O |\n",
      "----------\n",
      "Press r key to roll again: r\n",
      "----------\n",
      "| O    O |\n",
      "|        |\n",
      "| O    O |\n",
      "----------\n",
      "Press r key to roll again: r\n",
      "----------\n",
      "|    O   |\n",
      "|    O   |\n",
      "|    O   |\n",
      "----------\n",
      "Press r key to roll again: m\n",
      "----------\n",
      "| O    O |\n",
      "|        |\n",
      "| O    O |\n",
      "----------\n",
      "The end of dice rolling game\n"
     ]
    }
   ],
   "source": [
    "import random\n",
    "print(\"This is a dice rolling game\")\n",
    "\n",
    "x = \"r\"\n",
    "\n",
    "while x == \"r\":\n",
    "    \n",
    "    number = random.randint(1,6)\n",
    "    x = input(\"Press r key to roll again: \")  \n",
    "\n",
    "    if number == 1:\n",
    "        print(\"----------\")\n",
    "        print(\"|        |\")\n",
    "        print(\"|    O   |\")\n",
    "        print(\"|        |\")\n",
    "        print(\"----------\")\n",
    "    if number == 2:\n",
    "        print(\"----------\")\n",
    "        print(\"|        |\")\n",
    "        print(\"| O    O |\")\n",
    "        print(\"|        |\")\n",
    "        print(\"----------\")\n",
    "    if number == 3:\n",
    "        print(\"----------\")\n",
    "        print(\"|    O   |\")\n",
    "        print(\"|    O   |\")\n",
    "        print(\"|    O   |\")\n",
    "        print(\"----------\")\n",
    "    if number == 4:\n",
    "        print(\"----------\")\n",
    "        print(\"| O    O |\")\n",
    "        print(\"|        |\")\n",
    "        print(\"| O    O |\")\n",
    "        print(\"----------\")\n",
    "    if number == 5:\n",
    "        print(\"----------\")\n",
    "        print(\"| O    O |\")\n",
    "        print(\"|    O   |\")\n",
    "        print(\"| O    O |\")\n",
    "        print(\"----------\")\n",
    "    if number == 6:\n",
    "        print(\"----------\")\n",
    "        print(\"| O    O |\")\n",
    "        print(\"| O    O |\")\n",
    "        print(\"| O    O |\")\n",
    "        print(\"----------\")  \n",
    "\n",
    "else:\n",
    "    \n",
    "    print(\"The end of dice rolling game\")"
   ]
  }
 ],
 "metadata": {
  "kernelspec": {
   "display_name": "Python 3",
   "language": "python",
   "name": "python3"
  },
  "language_info": {
   "codemirror_mode": {
    "name": "ipython",
    "version": 3
   },
   "file_extension": ".py",
   "mimetype": "text/x-python",
   "name": "python",
   "nbconvert_exporter": "python",
   "pygments_lexer": "ipython3",
   "version": "3.8.6"
  }
 },
 "nbformat": 4,
 "nbformat_minor": 4
}
